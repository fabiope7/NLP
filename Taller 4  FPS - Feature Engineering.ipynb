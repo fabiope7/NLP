{
 "cells": [
  {
   "cell_type": "markdown",
   "metadata": {},
   "source": [
    "<img src='https://encrypted-tbn0.gstatic.com/images?q=tbn%3AANd9GcQ-VfNtOyJbsaxu43Kztf_cv1mgBG6ZIQZEVw&usqp=CAU'>\n",
    "\n",
    "# Procesamiento de Lenguage Natural\n",
    "\n",
    "## Taller #4: Feature Engineering \n",
    "\n",
    "## Fabio Peña Santiago\n",
    "\n",
    "`Fecha de entrega: Septiembre 12, 2020. (Antes del inicio de la próxima clase).`\n",
    "\n",
    "`Modo de entrega: Subir link de GitHub al aula virtual.`"
   ]
  },
  {
   "cell_type": "code",
   "execution_count": 1,
   "metadata": {},
   "outputs": [],
   "source": [
    "import re\n",
    "import pandas as pd\n",
    "\n",
    "from nltk.corpus import stopwords\n",
    "stopwords_sp = stopwords.words('spanish')\n",
    "\n",
    "from sklearn.feature_extraction.text import CountVectorizer"
   ]
  },
  {
   "cell_type": "markdown",
   "metadata": {},
   "source": [
    "# Punto 1: Pre-Procesamiento\n",
    "\n",
    "- `[11 pts]` Leer el archivo `dialogos.csv` usando `pandas`\n",
    "- `[11 pts]` Crear una nueva columna con el texto en minúscula, sin caracteres especiales ni números y sin palabras vacias"
   ]
  },
  {
   "cell_type": "code",
   "execution_count": 2,
   "metadata": {},
   "outputs": [
    {
     "data": {
      "text/html": [
       "<div>\n",
       "<style scoped>\n",
       "    .dataframe tbody tr th:only-of-type {\n",
       "        vertical-align: middle;\n",
       "    }\n",
       "\n",
       "    .dataframe tbody tr th {\n",
       "        vertical-align: top;\n",
       "    }\n",
       "\n",
       "    .dataframe thead th {\n",
       "        text-align: right;\n",
       "    }\n",
       "</style>\n",
       "<table border=\"1\" class=\"dataframe\">\n",
       "  <thead>\n",
       "    <tr style=\"text-align: right;\">\n",
       "      <th></th>\n",
       "      <th>Locución</th>\n",
       "    </tr>\n",
       "  </thead>\n",
       "  <tbody>\n",
       "    <tr>\n",
       "      <th>0</th>\n",
       "      <td>Francamente no</td>\n",
       "    </tr>\n",
       "    <tr>\n",
       "      <th>1</th>\n",
       "      <td>Lo del canadiense. Por favor, como que vosotro...</td>\n",
       "    </tr>\n",
       "    <tr>\n",
       "      <th>2</th>\n",
       "      <td>Tienes razón. A lo mejor así te liberas de tu ...</td>\n",
       "    </tr>\n",
       "    <tr>\n",
       "      <th>3</th>\n",
       "      <td>Pues, tú sabrás</td>\n",
       "    </tr>\n",
       "    <tr>\n",
       "      <th>4</th>\n",
       "      <td>Para mí que fue Krieger</td>\n",
       "    </tr>\n",
       "    <tr>\n",
       "      <th>...</th>\n",
       "      <td>...</td>\n",
       "    </tr>\n",
       "    <tr>\n",
       "      <th>954</th>\n",
       "      <td>Yo qué sé, digo yo qué será</td>\n",
       "    </tr>\n",
       "    <tr>\n",
       "      <th>955</th>\n",
       "      <td>Lo han entendido mal. Las joyas que venden en ...</td>\n",
       "    </tr>\n",
       "    <tr>\n",
       "      <th>956</th>\n",
       "      <td>Oooo... Me llamo Vivian</td>\n",
       "    </tr>\n",
       "    <tr>\n",
       "      <th>957</th>\n",
       "      <td>¿De dónde? ¿Del coño de tu madre?</td>\n",
       "    </tr>\n",
       "    <tr>\n",
       "      <th>958</th>\n",
       "      <td>Ah, sí esto podría funcionar</td>\n",
       "    </tr>\n",
       "  </tbody>\n",
       "</table>\n",
       "<p>959 rows × 1 columns</p>\n",
       "</div>"
      ],
      "text/plain": [
       "                                              Locución\n",
       "0                                       Francamente no\n",
       "1    Lo del canadiense. Por favor, como que vosotro...\n",
       "2    Tienes razón. A lo mejor así te liberas de tu ...\n",
       "3                                      Pues, tú sabrás\n",
       "4                              Para mí que fue Krieger\n",
       "..                                                 ...\n",
       "954                        Yo qué sé, digo yo qué será\n",
       "955  Lo han entendido mal. Las joyas que venden en ...\n",
       "956                            Oooo... Me llamo Vivian\n",
       "957                  ¿De dónde? ¿Del coño de tu madre?\n",
       "958                       Ah, sí esto podría funcionar\n",
       "\n",
       "[959 rows x 1 columns]"
      ]
     },
     "execution_count": 2,
     "metadata": {},
     "output_type": "execute_result"
    }
   ],
   "source": [
    "# Datos en bruto\n",
    "datos = pd.read_csv('./dialogos.csv')\n",
    "datos"
   ]
  },
  {
   "cell_type": "code",
   "execution_count": 4,
   "metadata": {},
   "outputs": [],
   "source": [
    "# Datos con la nueva columna\n",
    "def concat(lista):\n",
    "    enlace = \"\"\n",
    "    for elemento in lista:\n",
    "        enlace = enlace + \" \" + elemento\n",
    "    return enlace"
   ]
  },
  {
   "cell_type": "code",
   "execution_count": 5,
   "metadata": {},
   "outputs": [
    {
     "data": {
      "text/html": [
       "<div>\n",
       "<style scoped>\n",
       "    .dataframe tbody tr th:only-of-type {\n",
       "        vertical-align: middle;\n",
       "    }\n",
       "\n",
       "    .dataframe tbody tr th {\n",
       "        vertical-align: top;\n",
       "    }\n",
       "\n",
       "    .dataframe thead th {\n",
       "        text-align: right;\n",
       "    }\n",
       "</style>\n",
       "<table border=\"1\" class=\"dataframe\">\n",
       "  <thead>\n",
       "    <tr style=\"text-align: right;\">\n",
       "      <th></th>\n",
       "      <th>Locución</th>\n",
       "      <th>pre-procesado</th>\n",
       "    </tr>\n",
       "  </thead>\n",
       "  <tbody>\n",
       "    <tr>\n",
       "      <th>0</th>\n",
       "      <td>Francamente no</td>\n",
       "      <td>francamente</td>\n",
       "    </tr>\n",
       "    <tr>\n",
       "      <th>1</th>\n",
       "      <td>Lo del canadiense. Por favor, como que vosotro...</td>\n",
       "      <td>canadiense favor tiraríais allí si pudieseis</td>\n",
       "    </tr>\n",
       "    <tr>\n",
       "      <th>2</th>\n",
       "      <td>Tienes razón. A lo mejor así te liberas de tu ...</td>\n",
       "      <td>razón mejor así liberas energía nagativa</td>\n",
       "    </tr>\n",
       "    <tr>\n",
       "      <th>3</th>\n",
       "      <td>Pues, tú sabrás</td>\n",
       "      <td>pues sabrás</td>\n",
       "    </tr>\n",
       "    <tr>\n",
       "      <th>4</th>\n",
       "      <td>Para mí que fue Krieger</td>\n",
       "      <td>krieger</td>\n",
       "    </tr>\n",
       "    <tr>\n",
       "      <th>...</th>\n",
       "      <td>...</td>\n",
       "      <td>...</td>\n",
       "    </tr>\n",
       "    <tr>\n",
       "      <th>954</th>\n",
       "      <td>Yo qué sé, digo yo qué será</td>\n",
       "      <td>sé digo</td>\n",
       "    </tr>\n",
       "    <tr>\n",
       "      <th>955</th>\n",
       "      <td>Lo han entendido mal. Las joyas que venden en ...</td>\n",
       "      <td>entendido mal joyas venden canales siquiera i...</td>\n",
       "    </tr>\n",
       "    <tr>\n",
       "      <th>956</th>\n",
       "      <td>Oooo... Me llamo Vivian</td>\n",
       "      <td>oooo llamo vivian</td>\n",
       "    </tr>\n",
       "    <tr>\n",
       "      <th>957</th>\n",
       "      <td>¿De dónde? ¿Del coño de tu madre?</td>\n",
       "      <td>dónde coño madre</td>\n",
       "    </tr>\n",
       "    <tr>\n",
       "      <th>958</th>\n",
       "      <td>Ah, sí esto podría funcionar</td>\n",
       "      <td>ah podría funcionar</td>\n",
       "    </tr>\n",
       "  </tbody>\n",
       "</table>\n",
       "<p>959 rows × 2 columns</p>\n",
       "</div>"
      ],
      "text/plain": [
       "                                              Locución  \\\n",
       "0                                       Francamente no   \n",
       "1    Lo del canadiense. Por favor, como que vosotro...   \n",
       "2    Tienes razón. A lo mejor así te liberas de tu ...   \n",
       "3                                      Pues, tú sabrás   \n",
       "4                              Para mí que fue Krieger   \n",
       "..                                                 ...   \n",
       "954                        Yo qué sé, digo yo qué será   \n",
       "955  Lo han entendido mal. Las joyas que venden en ...   \n",
       "956                            Oooo... Me llamo Vivian   \n",
       "957                  ¿De dónde? ¿Del coño de tu madre?   \n",
       "958                       Ah, sí esto podría funcionar   \n",
       "\n",
       "                                         pre-procesado  \n",
       "0                                          francamente  \n",
       "1         canadiense favor tiraríais allí si pudieseis  \n",
       "2             razón mejor así liberas energía nagativa  \n",
       "3                                          pues sabrás  \n",
       "4                                              krieger  \n",
       "..                                                 ...  \n",
       "954                                            sé digo  \n",
       "955   entendido mal joyas venden canales siquiera i...  \n",
       "956                                  oooo llamo vivian  \n",
       "957                                   dónde coño madre  \n",
       "958                                ah podría funcionar  \n",
       "\n",
       "[959 rows x 2 columns]"
      ]
     },
     "execution_count": 5,
     "metadata": {},
     "output_type": "execute_result"
    }
   ],
   "source": [
    "datos['pre-procesado-1'] = [re.sub(r'[\\W\\d_]+',' ', str(frase)) for frase in datos['Locución'].str.lower()]\n",
    "datos['pre-procesado'] = \"\"\n",
    "\n",
    "for i,frase in enumerate(datos['pre-procesado-1']):\n",
    "    frase1 = frase.split()\n",
    "    frase2 = [palabra for palabra in frase1 if palabra not in stopwords_sp]\n",
    "    datos['pre-procesado'][i] = concat(frase2)\n",
    "datos = datos[['Locución','pre-procesado']]\n",
    "datos"
   ]
  },
  {
   "cell_type": "markdown",
   "metadata": {},
   "source": [
    "# Punto 2: Representación vectorial\n",
    "\n",
    "- `[11 pts]` Crear una bolsa de palabras (BoW) del corpus usando la columna pre-procesada\n",
    "- `[11 pts]` ¿Cuántas palabras hay en el vocabulario? (Usando la función de `sklearn`)"
   ]
  },
  {
   "cell_type": "code",
   "execution_count": 17,
   "metadata": {},
   "outputs": [],
   "source": [
    "import os\n",
    "os.getcwd()\n",
    "df = pd.read_csv(\"C:/Users/Administrador/Documents/Laptop Col/dektop/NLP/Taller 4/dialogos.csv\", sep=\",\")\n",
    "df['pre-procesado'] = df.Locución"
   ]
  },
  {
   "cell_type": "code",
   "execution_count": 18,
   "metadata": {},
   "outputs": [
    {
     "name": "stdout",
     "output_type": "stream",
     "text": [
      "[('poder', 1), ('enfermedades', 2), ('le', 3), ('Bienvenidos', 4), ('para...', 5), ('cojones', 6), ('cena', 7), ('serías', 8), ('Kane', 9), ('maldita', 10), ('felicidad', 11), ('sufriendo', 12), ('Mentía.', 13), ('tí', 14), ('está,', 15), ('ojo', 16), ('controles', 17), ('deseado', 18), ('dice,', 19), ('y', 20), ('lastimado,', 21), ('No?', 22), ('olvidarme', 23), ('Calrissiano,', 24), ('volar', 25), ('equivocado.', 26), ('dispararme?', 27), ('homofóbico,', 28), ('perstigioso?', 29), ('Tac', 30), ('pobre', 31), ('niña', 32), ('hecho!', 33), ('sea', 34), ('señal', 35), ('después.', 36), ('Su', 37), ('Linda', 38), ('aquí', 39), ('acuerdas', 40), ('Amo', 41), ('igualíto', 42), ('¡Joder!', 43), ('Ah', 44), ('rusos', 45), ('topo', 46), ('Acabo', 47), ('mí,', 48), ('Bourbon,', 49), ('monstruo.', 50), ('secreto', 51), ('debería', 52), ('atreven', 53), ('ella', 54), ('igual', 55), ('tu', 56), ('Chicos,', 57), ('movimiento', 58), ('acabado', 59), ('perdón', 60), ('amo', 61), ('quiero', 62), ('Bebe,', 63), ('Stern.', 64), ('amenazado', 65), ('mí', 66), ('nosotros?', 67), ('todo,', 68), ('cuántas', 69), ('brasileño?', 70), ('necesitas', 71), ('excusa...', 72), ('Pues', 73), ('Estoy', 74), ('beberé', 75), ('ves', 76), ('delantera', 77), ('Claudia', 78), ('Espera', 79), ('Espere,', 80), ('24', 81), ('país.', 82), ('legal', 83), ('\"Que', 84), ('quince', 85), ('mentía', 86), ('sacaste', 87), ('Siguiente', 88), ('puto', 89), ('Romperé', 90), ('venir.', 91), ('interesante.', 92), ('costoso', 93), ('entiendes', 94), ('Tetfield', 95), ('¿Juegas', 96), ('Estos', 97), ('demás,', 98), ('blindado', 99), ('veía', 100), ('necesito', 101), ('crezcas', 102), ('He', 103), ('Butters', 104), ('derrotar', 105), ('racista', 106), ('genuinos.', 107), ('ofertas?', 108), ('meneara', 109), ('Cheryl', 110), ('noche', 111), ('Tú', 112), ('incluida', 113), ('francesa,', 114), ('Tienes', 115), ('harás', 116), ('impresionar', 117), ('cuatorce', 118), ('emociona', 119), ('¿Sí,', 120), ('¿Es', 121), ('Slater?', 122), ('porque', 123), ('boca', 124), ('Brasilia', 125), ('bien,', 126), ('¡Qué', 127), ('Busca', 128), ('diez,', 129), ('materna?', 130), ('esqueleto', 131), ('carácter', 132), ('bebé.', 133), ('visto.', 134), ('intentado', 135), ('¿Que', 136), ('suya', 137), ('oídos,', 138), ('arrancó', 139), ('sólo,', 140), ('abracense,', 141), ('entrando', 142), ('sentido', 143), ('¿es', 144), ('buscando', 145), ('Country', 146), ('¿Muchachos,', 147), ('jóven?', 148), ('Eric,', 149), ('abracen', 150), ('indica', 151), ('lecciones', 152), ('\"La', 153), ('olvídense', 154), ('llevara', 155), ('ayudarían', 156), ('¿Pero,', 157), ('idiotas.', 158), ('\"\"Oh,', 159), ('montar', 160), ('asustado?', 161), ('jodía', 162), ('frivolidades.', 163), ('prueba,', 164), ('maneja', 165), ('¿ya', 166), ('preocupados', 167), ('miles', 168), ('Como', 169), ('sentir', 170), ('limón.', 171), ('Sí,', 172), ('cascos,', 173), ('supergay', 174), ('existe', 175), ('idiota', 176), ('más', 177), ('lineación', 178), ('asunto', 179), ('mañana', 180), ('chicos,', 181), ('fuerzas', 182), ('pueden', 183), ('Dónde', 184), ('operan', 185), ('primero', 186), ('pastor', 187), ('violencia', 188), ('algún', 189), ('abrazos', 190), ('mismo.', 191), ('lentamente', 192), ('nervioso', 193), ('pueda', 194), ('parar', 195), ('compañeros.', 196), ('haciendo', 197), ('mierda', 198), ('salchicha', 199), ('imbéciles!', 200), ('pillarte', 201), ('otras', 202), ('par', 203), ('Están', 204), ('esa', 205), ('que', 206), ('algo.', 207), ('realidad', 208), ('compran', 209), ('llamó', 210), ('día', 211), ('oro\"', 212), ('ponerte', 213), ('cuestan', 214), ('aprovecha', 215), ('sosténes', 216), ('China', 217), ('ofrecerías', 218), ('lugares', 219), ('imaginario', 220), ('plan', 221), ('escuchen,', 222), ('tecnología', 223), ('hecho', 224), ('último', 225), ('preparamos', 226), ('pidió', 227), ('Estáis', 228), ('espermas?\"\"', 229), ('hable', 230), ('cochecíto,', 231), ('mala', 232), ('duelen', 233), ('genuinos,', 234), ('uniformes.', 235), ('pagó', 236), ('Lando.', 237), ('duró', 238), ('negocio.', 239), ('cabrón', 240), ('confidencial', 241), ('TB-800', 242), ('aquí,', 243), ('poco?', 244), ('Stan', 245), ('busca', 246), ('rojo', 247), ('sentido,', 248), ('parió', 249), ('crece', 250), ('acuerdo', 251), ('sí', 252), ('sólidas', 253), ('vas', 254), ('pasó', 255), ('contexto,', 256), ('limón', 257), ('enémigo', 258), ('llamara', 259), ('hacemos?', 260), ('llevaba', 261), ('escuchar,', 262), ('dios', 263), ('amable', 264), ('familiar', 265), ('¡ah!', 266), ('Joder', 267), ('¿Oh?', 268), ('intento', 269), ('mil.', 270), ('sigues', 271), ('proveyó', 272), ('terminen', 273), ('asta', 274), ('¿Ah?', 275), ('florecente', 276), ('realmente.', 277), ('tomándose', 278), ('tío.', 279), ('burdel', 280), ('funcionar', 281), ('grande', 282), ('está', 283), ('Baruk', 284), ('importantes', 285), ('nuevo', 286), ('conversación', 287), ('parte', 288), ('verá,', 289), ('Seis', 290), ('junto', 291), ('conmociones', 292), ('Necesita', 293), ('gustan', 294), ('Un', 295), ('Nos', 296), ('laboralista,', 297), ('queda', 298), ('hija', 299), ('mierda!', 300), ('buena', 301), ('Vamos,', 302), ('Las', 303), ('emocionante.', 304), ('sabrás', 305), ('burbón.', 306), ('suficientes', 307), ('¡Venganza!', 308), ('intención', 309), ('cosquillas,', 310), ('hijo,', 311), ('poker?', 312), ('soy', 313), ('amenaza…', 314), ('homófoba', 315), ('Pagar', 316), ('gicante', 317), ('ira,', 318), ('toda?', 319), ('listo!', 320), ('programa', 321), ('regresando', 322), ('Fue', 323), ('llama', 324), ('mujeres', 325), ('Eh?', 326), ('Mike', 327), ('río', 328), ('brazaletes', 329), ('Butters!', 330), ('literalment', 331), ('Claro,', 332), ('nervioso?', 333), ('dudo', 334), ('venden', 335), ('vida', 336), ('mamada', 337), ('resuelven', 338), ('reunión', 339), ('robotizado.', 340), ('señora,', 341), ('¿Butters,', 342), ('dijo:', 343), ('perro,', 344), ('camradería', 345), ('brújula', 346), ('producen', 347), ('llamas?', 348), ('prácticamente', 349), ('televisión!', 350), ('rendirse.', 351), ('oficial', 352), ('Baruk?', 353), ('estés', 354), ('haz', 355), ('tuyos', 356), ('cúbreme', 357), ('Sterling,', 358), ('vimos?', 359), ('Alguién', 360), ('Ah,', 361), ('decirle', 362), ('Nueve', 363), ('retina,', 364), ('carrachi', 365), ('lograr,', 366), ('traumas', 367), ('guardadas?', 368), ('levanta', 369), ('compasivos', 370), ('tarde,', 371), ('estas', 372), ('Prefiero', 373), ('conmocionado', 374), ('tuviera', 375), ('G', 376), ('este', 377), ('necesidad', 378), ('Vagamente.', 379), ('Méxicano', 380), ('menos', 381), ('campo.', 382), ('somos', 383), ('Señor', 384), ('notación.', 385), (\"'hola,\", 386), ('dices,', 387), ('mayor', 388), ('sucia,', 389), ('ninguna', 390), ('¡Por', 391), ('dense', 392), ('precio', 393), ('amabilidad.', 394), ('dos', 395), ('Gustof?', 396), ('brazaleta', 397), ('turquesa', 398), ('Llamé', 399), ('juro', 400), ('Dan', 401), ('alguna', 402), ('venganza.', 403), ('sopearte', 404), ('infierno', 405), ('Ni', 406), ('alguien', 407), ('armado,', 408), ('siete', 409), ('formar', 410), ('Creía', 411), ('llevaré', 412), ('ojos,', 413), ('eres', 414), ('sentimientos,', 415), ('oído', 416), ('color', 417), ('cosa?', 418), ('hijos', 419), ('sistema,', 420), ('¿por', 421), ('dije', 422), ('divertido', 423), ('papás', 424), ('capas,', 425), ('capas?', 426), ('collar', 427), ('dura', 428), ('Sí.', 429), ('ridículo.', 430), ('refuerzos', 431), ('serio,', 432), ('estáte', 433), ('Argentina?', 434), ('ocasión', 435), ('víctimas', 436), ('robaron', 437), ('Cristi', 438), ('terminarse', 439), ('India,', 440), ('mucho.', 441), ('excuso', 442), ('que,', 443), ('horneando', 444), ('Abuelo?', 445), ('hermanita?', 446), ('tercera', 447), ('ellos,', 448), ('fiarme', 449), ('sigo', 450), ('freelance,', 451), ('preocupado', 452), ('todos', 453), ('siempre.', 454), ('tome', 455), ('queríamos', 456), ('pongamoslo', 457), ('cabrones', 458), ('rimó', 459), ('Cal..', 460), (\"día'\", 461), ('seguridad.', 462), ('tanzanita', 463), ('lindas', 464), ('North', 465), ('línea', 466), ('AJ?', 467), ('energía?', 468), ('pañales,', 469), ('Sé', 470), ('cuanto', 471), ('dijiste', 472), ('caray,', 473), ('Desintoxicándose', 474), ('monstruo', 475), ('demasiado', 476), ('disco.', 477), ('quedo', 478), ('varios', 479), ('yurta', 480), ('litros', 481), ('aqui', 482), ('cargar', 483), ('resumiendo', 484), ('llevar', 485), ('pudieseis', 486), ('peligrosas', 487), ('cerramos,', 488), ('preparas', 489), ('es,', 490), ('Harrys.', 491), ('recibe', 492), ('ocurriendo', 493), ('tomen', 494), ('hacerte', 495), ('Vuélvete', 496), ('calvos,', 497), ('medio', 498), ('descubierto.', 499), ('¿Alguién', 500), ('jodedor', 501), ('vamos.', 502), ('Seguro', 503), ('disculpas', 504), ('vamos,', 505), ('hago,', 506), ('usar', 507), ('pasado.', 508), ('Mi', 509), ('también', 510), ('alegra', 511), ('una', 512), ('las', 513), ('imbécil.', 514), ('cago', 515), ('cuatrao', 516), ('decidíamos', 517), ('esclavizados', 518), ('crucial,', 519), ('piso', 520), ('operación', 521), ('auténticos', 522), ('Tu', 523), ('algunas', 524), ('pondría', 525), ('\"\"una', 526), ('cincuenta', 527), ('dividimos', 528), ('Los', 529), ('réplica', 530), ('camisa', 531), ('Pero,', 532), ('Dice', 533), ('número', 534), ('Porcuro', 535), ('ábrelo,', 536), ('quieto,', 537), ('jugar.', 538), ('jodemos', 539), ('Además', 540), ('Uh', 541), ('frente', 542), ('he', 543), ('ocurrió,', 544), ('Necesitaré', 545), ('venido', 546), ('amabilidad', 547), ('guardarla', 548), ('Vivian', 549), ('SkyNet?', 550), ('fundimos', 551), ('atrás.', 552), ('regalo.', 553), ('perdón.', 554), ('Butters,', 555), ('zona', 556), ('compasión', 557), ('funciona', 558), ('equipo', 559), ('sucia.', 560), ('armas', 561), ('dado', 562), ('completamete', 563), ('Krieger,', 564), ('barra', 565), ('robado,', 566), ('Este', 567), ('mano', 568), ('servicio', 569), ('Antes', 570), ('hará', 571), ('Mientras', 572), ('quítate', 573), ('cara', 574), ('limusina', 575), ('practicar', 576), ('lucen', 577), ('serio?', 578), ('relativo', 579), ('sacará', 580), ('información?', 581), ('Gregors', 582), ('maldito', 583), ('verte.', 584), ('archerizar?', 585), ('¿Vieron', 586), ('nacional', 587), ('memoria', 588), ('¿Eso', 589), ('¿Se', 590), ('Ken,', 591), ('sosténes?', 592), ('podía', 593), ('jubilación', 594), ('pronuncia.', 595), ('tal', 596), ('Estaba', 597), ('Jhonsson!', 598), ('Espero', 599), ('hablamos.', 600), ('sido', 601), ('¿Perdona,', 602), ('litro', 603), ('puedo,', 604), ('bondad', 605), ('sí?', 606), ('Pásalo', 607), ('inventor', 608), ('hayas', 609), ('algo', 610), ('decía', 611), ('Esperad.', 612), ('quieren', 613), ('cambio', 614), ('pinta', 615), ('manos?', 616), ('comerciales', 617), ('ocurrido.', 618), ('quilates,', 619), ('joder', 620), ('malpinas.', 621), ('cíborg,', 622), ('usando', 623), ('tío', 624), ('será?', 625), ('Cartman,', 626), ('comisionado.', 627), ('traicioneros.', 628), ('refiere', 629), ('Sterling?', 630), ('basa', 631), ('excesivo', 632), ('semana', 633), ('ésa', 634), ('2006', 635), ('bordado', 636), ('Tóma', 637), ('crearla', 638), ('energía', 639), ('Faux', 640), ('prometo', 641), ('lógico,', 642), ('paracaigas', 643), ('Esperé', 644), ('aprovechen', 645), ('guardaré', 646), ('pobrecito', 647), ('Mi?', 648), ('sirven', 649), ('negocio', 650), ('Kenny', 651), ('...Hay', 652), ('hablando', 653), ('Uy,', 654), ('agradezca', 655), ('pegado', 656), ('jugo,', 657), ('trajera', 658), ('acerca', 659), ('¡Llévanos', 660), ('¿Practicar', 661), ('lado', 662), ('biónica?', 663), ('habría', 664), ('fuego,', 665), ('sabe', 666), ('informático', 667), ('gusta', 668), ('¡Papá!', 669), ('perder.', 670), ('malo', 671), ('eso!', 672), ('hablar,', 673), ('masticaras', 674), ('seguidores.', 675), ('trabajamos', 676), ('copa,', 677), ('siquera', 678), ('Hagámos', 679), ('mesas', 680), ('realista', 681), ('Ellos', 682), ('Pero', 683), ('negó,', 684), ('veas', 685), ('oigo.', 686), ('fórmula', 687), ('genéticas,', 688), ('Martín', 689), ('Perdón?', 690), ('conseguido', 691), ('dije,', 692), ('canadiense.', 693), ('Patches', 694), ('muchísimo', 695), ('es..', 696), ('ocupado', 697), ('conoce', 698), ('ti,', 699), ('vuelvas', 700), ('provoca', 701), ('muchachos.', 702), ('ir', 703), ('efectos', 704), ('traicionó,', 705), ('significa', 706), ('yo.', 707), ('amable,', 708), ('lastimen.', 709), ('atrapa', 710), ('secas,', 711), ('CIA', 712), ('persona?', 713), ('locos', 714), ('pisos', 715), ('pico.', 716), ('A', 717), ('sí!', 718), ('ocurrir', 719), ('corazón', 720), ('siendo', 721), ('importante,', 722), ('esperé.', 723), ('vender', 724), ('sus', 725), ('batir', 726), ('¿Crees', 727), ('Le', 728), ('casa', 729), ('busco', 730), ('ibas', 731), ('misión.', 732), ('empleado', 733), ('¿Y', 734), ('Ahora', 735), ('hoy.', 736), ('Rayos,', 737), ('Denver,', 738), ('caso', 739), ('Aires', 740), ('murió', 741), ('Sea', 742), ('prioridad', 743), ('foto', 744), ('sarcástico.', 745), ('Corten,', 746), ('despierto', 747), ('salidos', 748), ('adiós', 749), ('peso', 750), ('empeño.', 751), ('dan', 752), ('el', 753), ('cielos.', 754), ('¿Puedo', 755), ('insultos.', 756), ('¡Te', 757), ('recuerdas?', 758), ('¿Del', 759), ('siguen', 760), ('cabo', 761), ('balón.', 762), ('empezar?', 763), ('tremendo', 764), ('Dios,', 765), ('matar!', 766), ('grande?', 767), ('elección.', 768), ('peligroso', 769), ('¿Su', 770), ('da', 771), ('estrella', 772), ('canal', 773), ('término', 774), ('Horatio', 775), ('tú.', 776), ('cuál', 777), ('central', 778), ('debe', 779), ('descubra', 780), ('burbón?', 781), ('golpes', 782), ('me', 783), ('antes,', 784), ('preocupación,', 785), ('¿Preguntas?', 786), ('\"Nosotros', 787), ('desgraciado', 788), ('llevas', 789), ('edad', 790), ('¿Necesitas', 791), ('saludarás', 792), ('dio', 793), ('golpe?', 794), ('dentro,', 795), ('esta', 796), ('encragaré', 797), ('caríta', 798), ('hablas', 799), ('¿a', 800), ('ayer', 801), ('acaba', 802), ('ponerme', 803), ('reunión,', 804), ('45', 805), ('espaldas', 806), ('fondos', 807), ('Oy,', 808), ('apoyo', 809), ('jefe', 810), ('Hmm…', 811), ('qué,', 812), ('Norths', 813), ('parecemos', 814), ('tú?', 815), ('aburato', 816), ('¿Podríamos', 817), ('hablo', 818), ('\"Así', 819), ('Genial,', 820), ('eran', 821), ('convertir', 822), ('dejarme', 823), ('temas', 824), ('promoción', 825), ('años', 826), ('felizidad', 827), ('Dios!', 828), ('Mmm,', 829), ('sosténes.', 830), ('mejorar', 831), ('has', 832), ('Token,', 833), ('Bien,', 834), ('Marsh', 835), ('El', 836), ('improbable', 837), ('segura', 838), ('dispararé', 839), ('excusado,', 840), ('bueno', 841), ('sientes', 842), ('hablaste?', 843), ('Randy?', 844), ('preocupación', 845), ('difícil', 846), ('¡Vamos,', 847), ('come', 848), ('cojínes', 849), ('pachata', 850), ('deporte?', 851), ('gente', 852), ('a', 853), ('quise', 854), ('victoria?', 855), ('juega', 856), ('fuerte', 857), ('la', 858), ('hacerlo', 859), ('marcador', 860), ('persona', 861), ('desempeño', 862), ('llevaría', 863), ('favor?', 864), ('campo,', 865), ('allí?', 866), ('pensarlo', 867), ('bien!', 868), ('serio', 869), ('Rondie,', 870), ('solo.', 871), ('compasíbles', 872), ('encontrarán', 873), ('nada.', 874), ('pienso', 875), ('pidiendo', 876), ('Que,', 877), ('Eric.', 878), ('Cómo?', 879), ('minutos', 880), ('sarcasmobol', 881), ('quedaría', 882), ('quedaríamos', 883), ('cartél,', 884), ('motél', 885), ('ese', 886), ('¿Qué', 887), ('entusiasma', 888), ('jugadas.', 889), ('niño,', 890), ('Felicitaciones', 891), ('paquistaní', 892), ('Sharon.', 893), ('usted', 894), ('mejor,', 895), ('sentaré', 896), ('ex', 897), ('jodas,', 898), ('encantará', 899), ('chinos?', 900), ('dos,', 901), ('¡Conway', 902), ('creciente', 903), ('bienvenida', 904), ('Ayúdame,', 905), ('Lucen', 906), ('estudiando', 907), ('torpe?', 908), ('Villy?', 909), ('recuperar', 910), ('quitado', 911), ('disfrutamos', 912), ('ayúdame', 913), ('¡Suéltalas!', 914), ('papel?', 915), ('saber', 916), ('él?', 917), ('sarcasmobol,', 918), ('Deberíamos', 919), ('oro,', 920), ('evitar', 921), ('invito', 922), ('noche,', 923), ('conductos', 924), ('leccion', 925), ('comenzar', 926), ('chicos', 927), ('investigaciones', 928), ('Villy,', 929), ('línea.', 930), ('a…', 931), ('claramente', 932), ('comisionado', 933), ('distinguir', 934), ('hermosa', 935), ('positivo,', 936), ('Deberías', 937), ('llega', 938), ('llamamos', 939), ('contento.', 940), ('arma.', 941), ('inteligencia', 942), ('romper', 943), ('división', 944), ('espere', 945), ('ganador', 946), ('Sucios', 947), ('¿Vuelvo', 948), ('ventana?', 949), ('batido', 950), ('con', 951), ('salir', 952), ('Á', 953), ('asustó', 954), ('idea.', 955), ('Comisionato,', 956), ('apellido,', 957), ('atrape', 958), ('callas?', 959), ('hicimos', 960), ('madre', 961), ('gracias.', 962), ('disparar', 963), ('verdad', 964), ('nuestro?', 965), ('boca,', 966), ('tenéis', 967), ('mano,', 968), (\"'¡No!'\", 969), ('Pues,', 970), ('esmeraldas', 971), ('¿No', 972), ('tirado', 973), ('cabras\"\"?\"', 974), ('mejor.', 975), ('sarcástico?', 976), ('jamontillado', 977), ('puñalarme,', 978), ('QUETE', 979), ('Haber', 980), ('estadísticas', 981), ('maldítas', 982), ('confunden', 983), ('agotado,', 984), ('Caballeros,', 985), ('sabrán', 986), ('quería', 987), ('cogerlas.', 988), ('miro', 989), ('pego,', 990), ('feas', 991), ('Archerizar', 992), ('listo', 993), ('pelo', 994), ('Aunque', 995), ('asiáticas\"', 996), ('%', 997), ('botiquín', 998), ('toman', 999), ('infromación', 1000), ('tí.', 1001), ('acompaña', 1002), ('carajo!', 1003), ('Lana', 1004), ('¡Justo', 1005), ('victoria!', 1006), ('es', 1007), ('Cilo!', 1008), ('llegar', 1009), ('gracias', 1010), ('Detrás', 1011), ('supuestos', 1012), ('Gaylandia', 1013), ('cruzado', 1014), ('innecesariamente', 1015), ('daño', 1016), ('dice', 1017), ('visto', 1018), ('mediante', 1019), ('copas?', 1020), ('cremoso,', 1021), ('experiencia', 1022), ('muchos', 1023), ('hay,', 1024), ('hace', 1025), ('sitio', 1026), ('comprador.', 1027), ('fanático', 1028), ('Ese', 1029), ('muy', 1030), ('líderes', 1031), ('contar', 1032), ('J,', 1033), ('hielo,', 1034), ('conocéis', 1035), ('eres?', 1036), ('venta', 1037), ('ciber', 1038), ('Lana?', 1039), ('entendido', 1040), ('tendríais', 1041), ('eso,', 1042), ('beba,', 1043), ('Jim', 1044), ('interpretar', 1045), ('consultemos', 1046), ('mío,', 1047), ('¡Cállate!', 1048), ('Oye', 1049), ('Bell,', 1050), ('palmadas', 1051), ('extra', 1052), ('acorazada', 1053), ('servicios', 1054), ('toda', 1055), ('reemplazar', 1056), ('mexicanos', 1057), ('¡Amor', 1058), ('regalo,', 1059), ('buenos', 1060), ('tanto?', 1061), ('puñalada', 1062), ('competitividad', 1063), ('váter', 1064), ('himno', 1065), ('pedir', 1066), ('balas.', 1067), ('violencia?', 1068), ('imbécil,', 1069), ('miel', 1070), ('azotea', 1071), ('necesario', 1072), ('domingo', 1073), ('patear', 1074), ('guardarlo', 1075), ('voto', 1076), ('asustar,', 1077), ('NFL.', 1078), ('pibe', 1079), ('carteles', 1080), ('Racista', 1081), ('Ray,', 1082), ('dijo', 1083), ('botella', 1084), ('niño', 1085), ('tienen', 1086), ('inmaduro.', 1087), ('determinen', 1088), ('llamativo', 1089), ('reformar', 1090), ('matar', 1091), ('Cyril!', 1092), ('Cuando', 1093), ('hico', 1094), ('algúno.', 1095), ('tragado', 1096), ('testamento', 1097), ('narices', 1098), ('compasiva,', 1099), ('varias', 1100), ('fundir', 1101), ('estaba.', 1102), ('mirad,', 1103), ('¿La', 1104), ('ponle', 1105), ('super', 1106), ('Todos', 1107), ('dar', 1108), ('esprema', 1109), ('un…', 1110), ('vale', 1111), ('única', 1112), ('intenta', 1113), ('Dios', 1114), ('escuela', 1115), ('sedes', 1116), ('preocupes', 1117), ('líamos', 1118), ('parecen', 1119), ('bien', 1120), ('perder', 1121), ('nuevo.', 1122), ('dispararan', 1123), ('habernos', 1124), ('Comprenlo', 1125), ('Europa', 1126), ('nuevas,', 1127), ('Woodhouse', 1128), ('aptece', 1129), ('piensas?', 1130), ('entrenador?', 1131), ('carambola', 1132), ('Una', 1133), ('nuevos', 1134), ('Ciertamente', 1135), ('campo', 1136), ('Lana,', 1137), ('eso', 1138), ('vacía?', 1139), ('mí.', 1140), ('Puede', 1141), ('pelotas,', 1142), ('archivo', 1143), ('bebés?', 1144), ('disparado!', 1145), ('tendrémos', 1146), ('Buenos', 1147), ('asiáticas?', 1148), ('sede', 1149), ('misma', 1150), ('Deje', 1151), ('verdadera', 1152), ('Idiotas,', 1153), ('abracense.', 1154), ('puedes', 1155), ('sufras', 1156), ('puñalara', 1157), ('cerveza?', 1158), ('Mucho,', 1159), ('veímos', 1160), ('él', 1161), ('¿Os', 1162), ('veinte', 1163), ('gustaría', 1164), ('J?', 1165), ('realmente', 1166), ('diarrea', 1167), ('Ya,', 1168), ('sentiría', 1169), ('pan.', 1170), ('sinceridad', 1171), ('su', 1172), ('mujer,', 1173), ('también.', 1174), ('robó', 1175), ('odia', 1176), ('Vosotros', 1177), ('Sudamérica.', 1178), ('conmigo', 1179), ('militar', 1180), ('Cómo,', 1181), ('despeché', 1182), ('hoy', 1183), ('dicho,', 1184), ('copas', 1185), ('fundidor', 1186), ('pilas', 1187), ('estaba', 1188), ('puta,', 1189), ('cagando', 1190), ('moda,', 1191), ('normal', 1192), ('ocho', 1193), ('mercado', 1194), ('hombro,', 1195), ('Escuchen', 1196), ('escupieras', 1197), ('¿Argentina', 1198), ('strip', 1199), ('bigotón', 1200), ('sacarte', 1201), ('Joder,', 1202), ('decide', 1203), ('e', 1204), ('espectadores,', 1205), ('podemos', 1206), ('vendemos', 1207), ('creo,', 1208), ('entiende', 1209), ('salió.', 1210), ('vamos!', 1211), ('vienes', 1212), ('puta!', 1213), ('vida,', 1214), ('¡Es', 1215), ('pregunta?\"', 1216), ('deportes.', 1217), ('Disculpe,', 1218), ('entiendo', 1219), ('tomo', 1220), ('al', 1221), ('llaves,', 1222), ('duro?', 1223), ('pipa,', 1224), ('Riders', 1225), ('estamos', 1226), ('no.', 1227), ('Cielos,', 1228), ('mundo.', 1229), ('oigo', 1230), ('jugo', 1231), ('sombreros', 1232), ('centro', 1233), ('hago?', 1234), ('sarcasmobol?', 1235), ('Cielo', 1236), ('abrazas', 1237), ('crecido,', 1238), ('trabaja', 1239), ('necesita?', 1240), ('sino', 1241), ('algunos', 1242), ('balas', 1243), ('vase', 1244), ('no,', 1245), ('existen', 1246), ('Cartman', 1247), ('vale,', 1248), ('retiramos', 1249), ('urdu', 1250), ('jilibollas', 1251), ('reales', 1252), ('Jim,', 1253), ('Nosotros', 1254), ('entrenador,', 1255), ('deberíamos', 1256), ('proviene', 1257), ('brazos', 1258), ('ojo!', 1259), ('Ustedes', 1260), ('Cago', 1261), ('jugando', 1262), ('pistola!', 1263), ('por', 1264), ('acabas', 1265), ('cuánto', 1266), ('amenazado...', 1267), ('jugador.', 1268), ('producto', 1269), ('generoso', 1270), ('estabáis', 1271), ('aprovechar', 1272), ('ti', 1273), ('trece', 1274), ('actos', 1275), ('falsa', 1276), ('preocupada?', 1277), ('familia', 1278), ('cómo...', 1279), ('parezcas', 1280), ('Espera,', 1281), ('gane', 1282), ('ya,', 1283), ('indicado', 1284), ('Aubuelo,', 1285), ('fondo', 1286), ('decirme', 1287), ('¿Entonces,', 1288), ('cuidado.', 1289), ('canales', 1290), ('gran', 1291), ('Bourbon?', 1292), ('altura.', 1293), ('escáneo', 1294), ('¿crees', 1295), ('calla.', 1296), ('Todo', 1297), ('mentiste', 1298), ('poker', 1299), ('alzheimer', 1300), ('dejarlo', 1301), ('nueva', 1302), ('Hora', 1303), ('golpes?', 1304), ('laboral', 1305), ('ganando', 1306), ('idea', 1307), ('salirse', 1308), ('Deberían', 1309), ('ninguno', 1310), ('Mis', 1311), ('Claro', 1312), ('espalda,', 1313), ('haga', 1314), ('Somos', 1315), ('amigo,', 1316), ('presidencia.', 1317), ('buen', 1318), ('robot?', 1319), ('heróico,', 1320), ('prohibe', 1321), ('¿Alguna', 1322), ('verdadero', 1323), ('capas', 1324), ('debo', 1325), ('cordón.', 1326), ('veces', 1327), ('hasta', 1328), ('escuchen', 1329), ('balón', 1330), ('sale', 1331), ('Vaya,', 1332), ('menudo', 1333), ('conducir', 1334), ('otro', 1335), ('¿Lo', 1336), ('bikini', 1337), ('Hace', 1338), ('tiro', 1339), ('cristal', 1340), ('pues', 1341), ('ido,', 1342), ('muchachas', 1343), ('diré', 1344), ('devolvemos', 1345), ('hecho,', 1346), ('bárbaros,', 1347), ('Aún', 1348), ('joderme', 1349), ('crear', 1350), ('Dan.', 1351), ('culebrón', 1352), ('lunes?', 1353), ('mercado,', 1354), ('Primero,', 1355), ('relleno', 1356), ('Pagué', 1357), ('provienen', 1358), ('vuelta', 1359), ('lleno', 1360), ('generó\"\"\"', 1361), ('Quien', 1362), ('Parece', 1363), ('rescatarte', 1364), ('ausencia', 1365), ('Stern!', 1366), ('Suelen', 1367), ('Stan?', 1368), ('inicial', 1369), ('trece,', 1370), ('siento.', 1371), ('Tecnología', 1372), ('oro', 1373), ('lleguen', 1374), ('está?', 1375), ('ellos', 1376), ('Porque', 1377), ('aviso', 1378), ('lleves', 1379), ('va?', 1380), ('papá', 1381), ('Cheryl,', 1382), ('él!', 1383), ('té', 1384), ('mes', 1385), ('sospechábamos', 1386), ('subid', 1387), ('avión', 1388), ('cenar,', 1389), ('tanto', 1390), ('Kenny,', 1391), ('transmisión', 1392), ('hagámos', 1393), ('cuadras', 1394), ('sangre', 1395), ('decirles', 1396), ('bebé?', 1397), ('violador', 1398), ('Brasil', 1399), ('tiempo.', 1400), ('ríe', 1401), ('quedarás', 1402), ('cargo', 1403), ('aliado', 1404), ('luces', 1405), ('salto', 1406), ('¡Al', 1407), ('tacos?', 1408), ('pillar', 1409), ('ofrezco', 1410), ('molar', 1411), ('entrega', 1412), ('dispares.', 1413), ('¿Para', 1414), ('sonreirémos', 1415), ('ayudarme', 1416), ('habrá', 1417), ('nuestros,', 1418), ('Miren', 1419), ('corbata', 1420), ('mano?', 1421), ('avión,', 1422), ('ojalá', 1423), ('hospitalidad', 1424), ('cartel', 1425), ('hacen', 1426), ('saluda', 1427), ('Marsh.', 1428), ('fallecer', 1429), ('avisarme', 1430), ('capaz', 1431), ('¿Quién', 1432), ('caja', 1433), ('voluntad', 1434), ('pasa', 1435), ('ah...', 1436), ('sarcásticos', 1437), ('llamen', 1438), ('enojemos', 1439), ('¿le', 1440), ('os', 1441), ('Uno', 1442), ('Oye,', 1443), ('seguiste', 1444), ('latino', 1445), ('mientras', 1446), (\"M'key,\", 1447), ('Tendríamos', 1448), ('cubierto!', 1449), ('Literalmente,', 1450), ('mueras', 1451), ('liga', 1452), ('patear.', 1453), ('precios', 1454), ('sarcasmo', 1455), ('allí', 1456), ('interesantes,', 1457), ('¿Acaso', 1458), ('refranes', 1459), ('Eres', 1460), ('Malin', 1461), ('adentro', 1462), ('Entonces,', 1463), ('estemos', 1464), ('Has', 1465), ('recibir', 1466), ('directa', 1467), ('precio,', 1468), ('vestidos?', 1469), ('Chúpamela', 1470), ('argentio', 1471), ('agentes', 1472), ('padres', 1473), ('jordana', 1474), ('café', 1475), ('padre', 1476), ('avergonzarse', 1477), ('Conway', 1478), ('baño', 1479), ('mato', 1480), ('Hay', 1481), ('sarcasmobol.', 1482), ('Perdón,', 1483), ('portado', 1484), ('felices', 1485), ('mira', 1486), ('profesionales', 1487), ('novatos', 1488), ('capitán.', 1489), ('llevo', 1490), ('único', 1491), ('urgencia,', 1492), ('moda!', 1493), ('South', 1494), ('papá.', 1495), ('señor', 1496), ('urdu?', 1497), ('modificando', 1498), ('durmiendo,', 1499), ('franco,', 1500), ('fácilmente', 1501), ('éxito', 1502), ('descansan', 1503), ('hacerle', 1504), ('solo', 1505), ('gas', 1506), ('decírselo,', 1507), ('podrías', 1508), ('inventó', 1509), ('misión', 1510), ('Llévanos', 1511), ('ocupe', 1512), ('tantos', 1513), ('acceder', 1514), ('ridículo', 1515), ('oro\"\".', 1516), ('veo', 1517), ('maldíto', 1518), ('luego,', 1519), ('terminar', 1520), ('abuelo', 1521), ('ayuda', 1522), ('Verás', 1523), ('todavía?', 1524), ('caballero', 1525), ('personas', 1526), ('cáncer', 1527), ('daba', 1528), ('ello,', 1529), ('Nada', 1530), ('Así,', 1531), ('antimatéria', 1532), ('vuelva', 1533), ('compromiso,', 1534), ('iluminarse,', 1535), ('aquí.', 1536), ('gentil', 1537), ('Bueno,', 1538), ('viernes', 1539), ('dos.', 1540), ('cientos', 1541), ('continúe', 1542), ('grámos.', 1543), ('sentimientos', 1544), ('apuesto', 1545), ('fuertemente', 1546), ('Quince', 1547), ('esa?', 1548), ('gustarán,', 1549), ('quatorce', 1550), ('Stillers,', 1551), ('pendiente?', 1552), ('mamada,', 1553), ('esmeralda', 1554), ('lógica', 1555), ('ordenador', 1556), ('servidor', 1557), ('tontería', 1558), ('Villy', 1559), ('quién', 1560), ('ido?', 1561), ('Rondie?', 1562), ('están.', 1563), ('América', 1564), ('acepta', 1565), ('quizás', 1566), ('son', 1567), ('¿En', 1568), ('veces.', 1569), ('esperad,', 1570), ('aprovecharse', 1571), ('¿Slater?', 1572), ('lindo.', 1573), ('ella?', 1574), ('deberían', 1575), ('Rey', 1576), ('averiguarémos', 1577), ('siguiera', 1578), ('castaña,', 1579), ('Randy,', 1580), ('Mira', 1581), ('Bret', 1582), ('ayudarémos', 1583), ('Streling', 1584), ('despeto', 1585), (\"cerebro'.\", 1586), ('garage,', 1587), ('\"\"compramos', 1588), ('tirarte', 1589), ('elegir', 1590), ('desangras', 1591), ('excusa?', 1592), ('juego', 1593), ('cogerla?', 1594), ('principal', 1595), ('efectivo', 1596), ('llamarás', 1597), ('¿Bien,', 1598), ('cambiar', 1599), ('¡Vamos', 1600), ('lunes', 1601), ('noches', 1602), ('Coronel', 1603), ('enormes', 1604), ('pensamientos', 1605), ('CIA?', 1606), ('tíos.', 1607), ('negro?', 1608), ('salvo', 1609), ('tener', 1610), ('sangrientas', 1611), ('dos?', 1612), ('tiros', 1613), ('botellitas', 1614), ('hago', 1615), ('hola.', 1616), ('mucha', 1617), ('adreza', 1618), ('Venga,', 1619), ('pateamos', 1620), ('mal', 1621), ('cosa', 1622), ('venir?', 1623), ('tres.', 1624), ('mirándolo', 1625), ('libre.', 1626), ('sostenes?', 1627), ('aunque', 1628), ('vieja', 1629), ('Mejor', 1630), ('\"Y', 1631), ('cartas', 1632), ('uno', 1633), ('acercarse,', 1634), ('corriendo', 1635), ('mucho,', 1636), ('necesita:', 1637), ('cerrado', 1638), ('puesto', 1639), ('bebé', 1640), ('gramo', 1641), ('haría', 1642), ('Hijos', 1643), ('importante', 1644), ('anuales.', 1645), ('llamar', 1646), ('sepa', 1647), ('irónico', 1648), ('fuma', 1649), ('80', 1650), ('¡Ay,', 1651), ('ven.', 1652), ('analogía', 1653), ('noche.', 1654), ('auto,', 1655), ('cremosidad', 1656), ('tomar', 1657), ('Se', 1658), ('tengo', 1659), ('¡Hijo', 1660), ('Ven', 1661), ('jode', 1662), ('kilítos', 1663), ('Vale,', 1664), ('abrochame', 1665), ('humanidad', 1666), ('vosotros', 1667), ('preocupa', 1668), ('auto', 1669), ('azúcar', 1670), ('traidor,', 1671), ('oye', 1672), ('aquella', 1673), ('dejadme', 1674), ('Slater.', 1675), ('propulsor', 1676), ('Maritin', 1677), ('improvisable?', 1678), ('Papá', 1679), ('escolares,', 1680), ('implicaré', 1681), ('regalo', 1682), ('cantante', 1683), ('patos', 1684), ('libros', 1685), ('perdón,', 1686), ('jodiéndola', 1687), ('cabras', 1688), ('cerca', 1689), ('año', 1690), ('tobillos.', 1691), ('podemos.', 1692), ('futbol', 1693), ('Aha,', 1694), ('abrazar', 1695), ('un', 1696), ('navegantes?', 1697), ('actor?', 1698), ('Sharon,', 1699), ('laboratorio', 1700), ('pistola?', 1701), ('cutre?', 1702), ('bando', 1703), ('Puedo', 1704), ('seguro', 1705), ('bolsa', 1706), ('Alguien', 1707), ('acero,', 1708), ('pusiste', 1709), ('Tenemos', 1710), ('clavado', 1711), ('dijeron', 1712), ('favor', 1713), ('arrancaste', 1714), ('oro\"\"', 1715), ('era', 1716), ('exagera', 1717), ('Washington', 1718), ('venga,', 1719), ('Stan,', 1720), ('bendíto', 1721), ('entrenador', 1722), ('¿Qué?', 1723), ('licor', 1724), ('listo.', 1725), ('colocar', 1726), ('esto,', 1727), ('ciego,', 1728), ('regla', 1729), ('grite', 1730), ('15', 1731), ('contratado', 1732), ('montado', 1733), ('Bien', 1734), ('entendemos', 1735), ('razón.', 1736), ('buena?', 1737), ('leche.', 1738), ('billones!', 1739), ('cabra', 1740), ('muchísimas', 1741), ('¿Qué,', 1742), ('dicho?', 1743), ('cabrearme?', 1744), ('investigación', 1745), ('intenten', 1746), ('Ascani', 1747), ('paciente', 1748), ('descortéz', 1749), ('uah?', 1750), ('comprará', 1751), ('Quiénes', 1752), ('decirte', 1753), ('podría', 1754), ('pasarlo', 1755), ('fácil,', 1756), ('timó', 1757), ('figuro', 1758), ('misión?', 1759), ('buenas', 1760), ('definitivamente', 1761), ('gustarán', 1762), ('domésticos', 1763), ('tipi?', 1764), ('reventa,', 1765), ('área,', 1766), ('fue', 1767), ('puerta', 1768), ('venganza,', 1769), ('Mani', 1770), ('llamado', 1771), ('Así', 1772), ('selector', 1773), ('cero,', 1774), ('importa', 1775), ('eres.', 1776), ('estado', 1777), ('freelance.', 1778), ('hablar', 1779), ('sacarlo', 1780), ('muchas', 1781), ('hecho.', 1782), ('Calrissiano', 1783), ('dispares,', 1784), ('antes', 1785), ('partida', 1786), ('puedo', 1787), ('Estó', 1788), ('playa', 1789), ('cosas', 1790), ('dispararan,', 1791), ('cuando', 1792), ('pensando', 1793), ('cambiará', 1794), ('pedido', 1795), ('excusas', 1796), ('señora', 1797), ('entrenarlos', 1798), ('apta', 1799), ('pantalones', 1800), ('Esos', 1801), ('¿vale?', 1802), ('lleva', 1803), ('saco', 1804), ('culpa', 1805), ('ido.', 1806), ('animal', 1807), ('esfuerzo,', 1808), ('quilates.', 1809), ('cinquenta', 1810), ('mundo!', 1811), ('Conway?', 1812), ('no?', 1813), ('frase!', 1814), ('Bien.', 1815), ('avanzan', 1816), ('skymal', 1817), ('licores', 1818), ('Uno,', 1819), ('querré', 1820), ('alumnos', 1821), ('escaleras', 1822), ('AJ.', 1823), ('felizidad.', 1824), ('bebas', 1825), ('nosotros.', 1826), ('¿Hablando', 1827), ('siento,', 1828), ('dólares.', 1829), ('quedaba', 1830), ('primer', 1831), ('mío.', 1832), ('móvil,', 1833), ('echar', 1834), ('Que', 1835), ('¿Un', 1836), ('deberías', 1837), ('mierda,', 1838), ('familiares', 1839), ('mandaste', 1840), ('meta', 1841), ('tiene', 1842), ('puta', 1843), ('vamos', 1844), ('por...', 1845), ('real', 1846), ('vez', 1847), ('joder,', 1848), ('¿quién', 1849), ('estaré', 1850), ('inteligencia,', 1851), ('Perfecto!', 1852), ('usas,', 1853), ('había', 1854), ('Está', 1855), ('así', 1856), ('siquiera', 1857), ('eleve', 1858), ('relleníta', 1859), ('Craig,', 1860), ('fui', 1861), ('Allí', 1862), ('sí,', 1863), ('Cierrate', 1864), ('Cyril,', 1865), ('avisárselo.', 1866), ('interior', 1867), ('permanente', 1868), ('trabajo.', 1869), ('Stines', 1870), ('falsos', 1871), ('cañero', 1872), ('¿A', 1873), ('Krieger', 1874), ('ofrecerte', 1875), ('sabían', 1876), ('récien', 1877), ('frecuente', 1878), ('cráneo', 1879), ('necesites,', 1880), ('licencia', 1881), ('Buena', 1882), ('jodo', 1883), ('yo', 1884), ('ahora,', 1885), ('prometer', 1886), ('véte,', 1887), ('esperar.', 1888), ('Perdón', 1889), ('sin', 1890), ('cuija', 1891), ('llámame', 1892), ('estos', 1893), ('puntos', 1894), ('seguridad', 1895), ('justo', 1896), ('esto...', 1897), ('equación', 1898), ('bien.', 1899), ('verla', 1900), ('compasivo?', 1901), ('contarle', 1902), ('chupe', 1903), ('jugadores', 1904), ('descaradamente.', 1905), ('serio.', 1906), ('cerebro', 1907), ('puede,', 1908), ('empezar,', 1909), ('toquecíto', 1910), ('dejado', 1911), ('estoy', 1912), ('especiales', 1913), ('ultramoderna', 1914), ('siglos,', 1915), ('Maní?', 1916), ('habrías', 1917), ('nosotros', 1918), ('globo,', 1919), ('Archer', 1920), ('Hablemos', 1921), ('aseguro', 1922), ('retribución', 1923), ('dobles', 1924), ('Practicamos', 1925), ('Cilo', 1926), ('haces', 1927), ('ni', 1928), ('Quién?', 1929), ('horas', 1930), ('cuarenta', 1931), ('Aquí', 1932), ('mejorarlo', 1933), ('cargando', 1934), ('están?', 1935), ('disco', 1936), ('hielo.', 1937), ('sacad', 1938), ('bromista,', 1939), ('Jesús', 1940), ('Tengo', 1941), ('subir', 1942), ('estableció', 1943), ('niña.', 1944), ('regresemos', 1945), ('contrario', 1946), ('¿te', 1947), ('Quería', 1948), ('fuerte!', 1949), ('para', 1950), ('claro', 1951), ('damos', 1952), ('nosotras', 1953), ('negamos', 1954), ('Gracias', 1955), ('darme', 1956), ('Quieren', 1957), ('comunicamos', 1958), (\"'No\", 1959), ('posan', 1960), ('Crees', 1961), ('¿Porque', 1962), ('unos', 1963), ('madre?', 1964), ('harémos', 1965), ('encima?', 1966), ('agradecernos', 1967), ('ligas', 1968), ('cuarto', 1969), ('defensor', 1970), ('Intente', 1971), ('complicado?', 1972), ('hacéis', 1973), ('crees', 1974), ('tuviera.', 1975), ('suyas', 1976), ('loco.', 1977), ('habitación', 1978), ('envidia', 1979), ('contra', 1980), ('victoria', 1981), ('chovinista', 1982), ('libres', 1983), ('Recuerda', 1984), ('Muchas', 1985), ('timarnos', 1986), ('salchichas', 1987), ('pierde', 1988), ('mundo', 1989), ('química', 1990), ('felicidad.', 1991), ('sabes.', 1992), ('igual?', 1993), ('claro,', 1994), ('tienda', 1995), ('Acepta', 1996), ('perfil', 1997), ('doctor,', 1998), ('puse', 1999), ('Tres', 2000), ('dinero', 2001), ('criar', 2002), ('capitán', 2003), ('Jackson', 2004), ('rebalsa', 2005), ('Debería', 2006), ('amamos', 2007), ('hayan', 2008), ('Con', 2009), ('alzheimer,', 2010), ('comer', 2011), ('estudian', 2012), ('información', 2013), ('yo?', 2014), ('gritar', 2015), ('Tendrían', 2016), ('atleta', 2017), ('presidente', 2018), ('Recargando,', 2019), ('culos!', 2020), ('joyas,', 2021), ('amenazar', 2022), ('sabor', 2023), ('cadena?', 2024), ('quienquiera', 2025), ('datos...', 2026), ('¡Eh!', 2027), ('majo!', 2028), ('faux', 2029), ('¡Ah,', 2030), ('venimos', 2031), ('Ray.', 2032), ('maravilloso,', 2033), ('bebida', 2034), ('ti.', 2035), ('terríble', 2036), ('felices,', 2037), ('tenido', 2038), ('unas', 2039), ('gruño', 2040), ('conmoción.', 2041), ('Francamente', 2042), ('cero', 2043), ('directamente', 2044), ('intentar.', 2045), ('¿Te', 2046), ('dijo?', 2047), ('costó', 2048), ('canguro', 2049), ('Más', 2050), ('tejido', 2051), ('bolas,', 2052), ('conté', 2053), ('aquel', 2054), ('Woodly.', 2055), ('prestame', 2056), ('canguros', 2057), ('cállate,', 2058), ('darle', 2059), ('Solo', 2060), ('sólo', 2061), ('sesos', 2062), ('¿Eh', 2063), ('joventud', 2064), ('Lana.', 2065), ('sacamos', 2066), ('Oakland.', 2067), ('decir:', 2068), ('algo,', 2069), ('club', 2070), ('yo!', 2071), ('Vuelvo', 2072), ('buscarán', 2073), ('consigo', 2074), ('relación', 2075), ('amigo', 2076), ('espera,', 2077), ('dices', 2078), ('Mirad,', 2079), ('brazos...', 2080), ('ciencia', 2081), ('manos.', 2082), ('viejo', 2083), ('convertirlo', 2084), ('perdidio', 2085), ('exceso', 2086), ('pago', 2087), ('Ley', 2088), ('escocés', 2089), ('allí,', 2090), ('robando', 2091), ('negativo', 2092), ('encantará.', 2093), ('nagativa', 2094), ('hagas', 2095), ('tres', 2096), ('Creo', 2097), ('mis', 2098), ('veamos', 2099), ('¿Osíto?', 2100), ('asiática', 2101), ('fastidiarse', 2102), ('¿Sostenes?', 2103), ('Les', 2104), ('pistol', 2105), ('problema', 2106), ('Broncos', 2107), ('hijos?', 2108), ('irme', 2109), ('concentrémonos', 2110), ('vinieramos', 2111), ('caemos', 2112), ('teniendo', 2113), ('Me', 2114), ('parece', 2115), ('hubiera', 2116), ('joyas?', 2117), ('tendrá', 2118), ('esperándome', 2119), ('compañeros', 2120), ('trata', 2121), ('Eric', 2122), ('joderme.', 2123), ('Baruk,', 2124), ('dicho', 2125), ('Paties?', 2126), ('placer', 2127), ('porquería.', 2128), ('qué...?', 2129), ('pongas', 2130), ('secas', 2131), ('ser', 2132), ('mejora', 2133), ('fundió,', 2134), ('genial,', 2135), ('Vivian,', 2136), ('sé,', 2137), ('¡Genial!', 2138), ('usa', 2139), ('importa?', 2140), ('miles,', 2141), ('fuimos', 2142), ('23', 2143), ('viviría', 2144), ('Durante', 2145), ('asiáticas', 2146), ('equipo.', 2147), ('Iba', 2148), ('Argentina', 2149), ('Saben', 2150), ('confundirme', 2151), ('lógico', 2152), ('cerramos', 2153), ('venganza', 2154), ('Franco', 2155), ('burlarse', 2156), ('encuentra', 2157), ('valiosas', 2158), ('escansará', 2159), ('ochenta', 2160), ('presionar', 2161), ('bastante', 2162), ('suelo,', 2163), ('niveles', 2164), ('inteligencia.', 2165), ('oferta', 2166), ('primo,', 2167), ('Son', 2168), ('Oblígame!', 2169), ('secuencia', 2170), ('¿Hmmm?', 2171), ('noventa', 2172), ('se', 2173), ('deja', 2174), ('increíble', 2175), ('ver', 2176), ('él.', 2177), ('Qué', 2178), ('Apunta', 2179), ('todos.', 2180), ('Caray,', 2181), ('ofrecer', 2182), ('va', 2183), ('armería', 2184), ('importa,', 2185), ('si', 2186), ('aire', 2187), ('escoria', 2188), ('gusto', 2189), ('profesional', 2190), ('pelígro', 2191), ('futból', 2192), ('Creo,', 2193), ('triste,', 2194), ('hindu', 2195), ('es?', 2196), ('cámara', 2197), ('donde', 2198), ('lamentamos', 2199), ('Bienvenido,', 2200), ('dama', 2201), ('intentar', 2202), (\"m'kay\", 2203), ('quieres', 2204), ('cálido', 2205), ('días', 2206), ('Soy', 2207), ('hacer', 2208), ('La', 2209), ('venga', 2210), ('flecha', 2211), ('aprendimos', 2212), ('Desde', 2213), ('¿Dónde', 2214), ('iba', 2215), ('duda', 2216), ('envían', 2217), ('quedará', 2218), ('Es', 2219), ('aretes', 2220), ('sacado', 2221), ('programa.', 2222), ('multiracial', 2223), ('segura.', 2224), ('cena?', 2225), ('guardas', 2226), ('gastar', 2227), ('Decías', 2228), ('37', 2229), ('recuerda', 2230), ('corazón?', 2231), ('hablar?', 2232), ('juegen', 2233), ('Volvió', 2234), ('mía!', 2235), ('No,', 2236), ('fin,', 2237), ('ofensiva', 2238), ('creerlo.', 2239), ('pibe,', 2240), ('preocupado,', 2241), ('hacia', 2242), ('digo', 2243), ('inaugural', 2244), ('materna', 2245), ('sé', 2246), ('él,', 2247), ('ojos', 2248), ('sagrado', 2249), ('no', 2250), ('usted,', 2251), ('gorda', 2252), ('oye,', 2253), ('empanada', 2254), ('economía', 2255), ('guardar', 2256), ('juntos?', 2257), ('llamo', 2258), ('Literalmente', 2259), ('deseas', 2260), ('no!', 2261), ('preocupes,', 2262), ('Qué?', 2263), ('té.', 2264), ('semejante?', 2265), ('hablando?', 2266), ('amenaza', 2267), ('podido', 2268), ('CIA,', 2269), ('Pam,', 2270), ('Sería', 2271), ('veintiquatro', 2272), ('custodiada', 2273), ('enfrentamiento', 2274), ('parecido', 2275), ('poco', 2276), ('Park?', 2277), ('robo', 2278), ('Stanley,', 2279), ('relajar.', 2280), ('pastel', 2281), ('alegría', 2282), ('Disculpe', 2283), ('amigos', 2284), ('cuidar', 2285), ('real,', 2286), ('peletero,', 2287), ('¿El', 2288), ('Ha', 2289), ('terraza', 2290), ('misión,', 2291), ('mujer', 2292), ('seamos', 2293), ('sácale', 2294), ('Cómo', 2295), ('Protesto', 2296), ('estudo', 2297), ('salid', 2298), ('hermana', 2299), ('vayas', 2300), ('verdad?', 2301), ('árbitros', 2302), ('usarla', 2303), ('Idiota,', 2304), ('pudiera', 2305), ('Eso', 2306), ('maquillaron', 2307), ('¡Eso', 2308), ('tipo', 2309), ('otros,', 2310), ('K', 2311), ('secuestrado', 2312), ('Callados', 2313), ('rancasteis', 2314), ('haberle', 2315), ('Por', 2316), ('Al', 2317), ('nada', 2318), ('mexicano', 2319), ('Rome,', 2320), ('bajos', 2321), ('felicitaciones', 2322), ('beba', 2323), ('les', 2324), ('humo', 2325), ('Recordadme', 2326), ('preguntado', 2327), ('nombre', 2328), ('Goodell.', 2329), ('¿Eh,', 2330), ('chúpalas', 2331), ('finde,', 2332), ('capital', 2333), ('lado?', 2334), ('¿Cree', 2335), ('elección', 2336), ('quién?', 2337), ('Quiero', 2338), ('traidor.', 2339), ('advierto', 2340), ('formas,', 2341), ('mejoró', 2342), ('quilates', 2343), ('Quieres', 2344), ('aceptamos', 2345), ('ten', 2346), ('mí?', 2347), ('acompañar', 2348), ('Papá,', 2349), ('suerte', 2350), ('cállate!', 2351), ('jueguen', 2352), ('oro?', 2353), ('nuestros', 2354), ('decir?', 2355), ('seaís', 2356), ('terminar?', 2357), ('golpe', 2358), ('ancha', 2359), ('¿Más', 2360), ('¿Tienes', 2361), ('Stern', 2362), ('crédito?', 2363), ('jode.', 2364), ('Woodhouse?', 2365), ('mal.', 2366), ('genial', 2367), ('intermediarios.', 2368), ('¿Entendido?', 2369), ('resolverlo', 2370), ('gordado', 2371), ('¿Por', 2372), ('esposa.', 2373), ('cualquiera', 2374), ('lleve', 2375), ('saldrémos', 2376), ('matas?', 2377), ('cuentas', 2378), ('abuelo,', 2379), ('volver', 2380), ('refrán', 2381), ('bueno.', 2382), ('era...', 2383), ('clave?', 2384), ('robot', 2385), ('golpe.', 2386), ('niños', 2387), ('ponedlas', 2388), ('vacía!', 2389), ('puerta?', 2390), ('Tiene', 2391), ('nuestro', 2392), ('miren', 2393), ('este?', 2394), ('Coño', 2395), ('Volveré', 2396), ('cansamos', 2397), ('Esta', 2398), ('dispararon', 2399), ('haya,', 2400), ('tú', 2401), ('señala', 2402), ('Browns', 2403), ('nueve', 2404), ('¿Tu', 2405), ('Slater', 2406), ('comodines', 2407), ('¿Eh?', 2408), ('mostrar', 2409), ('comienzan', 2410), ('necesarias', 2411), ('hacernos', 2412), ('valor', 2413), ('patadas', 2414), ('ha', 2415), ('Conway,', 2416), ('nuestras.', 2417), ('tequila', 2418), ('coronel', 2419), ('llave?', 2420), ('arriba,', 2421), ('Ley?', 2422), ('comida', 2423), ('conocido.', 2424), ('nadie', 2425), ('debemos', 2426), ('encuentren', 2427), ('cabecíta', 2428), ('seré', 2429), ('ser.', 2430), ('Broncos,', 2431), ('herir', 2432), ('Key,', 2433), ('tenemos', 2434), ('siento', 2435), ('regalado', 2436), ('paralelo', 2437), ('resto', 2438), ('otra', 2439), ('¿Sabe', 2440), ('entre', 2441), ('hacer?', 2442), ('Butters.', 2443), ('compren', 2444), ('Comenzó', 2445), ('salgan', 2446), ('leche', 2447), ('provocar.', 2448), ('yo,', 2449), ('AJ', 2450), ('todavía.', 2451), ('mate', 2452), ('tal?', 2453), ('bárbaros', 2454), ('corazón,', 2455), ('lamernos', 2456), ('recuerdos?', 2457), ('cremoso', 2458), ('oiga,', 2459), ('mi', 2460), ('sostén', 2461), ('Cánada', 2462), ('pero', 2463), ('ustedes', 2464), ('ganan', 2465), ('todo', 2466), ('bienvenido', 2467), ('vergón?', 2468), ('cien', 2469), ('permiteme', 2470), ('Estarás', 2471), ('ocultarlo', 2472), ('hizo', 2473), ('disparado', 2474), ('mamá', 2475), ('quien', 2476), ('emocionante', 2477), ('minuto?', 2478), ('deportes', 2479), ('feliz', 2480), ('seguro,', 2481), ('roba', 2482), ('coge', 2483), ('Vamos', 2484), ('literalmente', 2485), ('cuestión.', 2486), ('Hola,', 2487), ('Bourbon', 2488), ('ya', 2489), ('trece?', 2490), ('Aunque,', 2491), ('ve', 2492), ('O', 2493), ('En', 2494), ('Tendría', 2495), ('ocurrir.', 2496), ('nuestra', 2497), ('mitade', 2498), ('menos,', 2499), ('¡Contentísimo!', 2500), ('ya?', 2501), ('suelo', 2502), ('acuerdo,', 2503), ('favor!', 2504), ('ocurrió', 2505), ('hace\"', 2506), ('pasado', 2507), ('Gracias,', 2508), ('parecerse', 2509), ('básicamente', 2510), ('hermosos', 2511), ('Oro', 2512), ('barbaridades', 2513), ('de…', 2514), ('Mucha', 2515), ('cremoso.', 2516), ('ejemplo.', 2517), ('tú,', 2518), ('grandes', 2519), ('peluche', 2520), ('dónde?', 2521), ('aqui?', 2522), ('deporte', 2523), ('traer', 2524), ('quiero.', 2525), ('Mire', 2526), ('Cuánto', 2527), ('pegas?', 2528), ('sueños', 2529), ('pérdida', 2530), ('conduce', 2531), ('mejor', 2532), ('¿Randy,', 2533), ('decir,', 2534), ('creo', 2535), ('rayo', 2536), ('que…', 2537), ('seguridad,', 2538), ('supongo', 2539), ('dando', 2540), ('ver,', 2541), ('¡Duro', 2542), ('Voy', 2543), ('virgen.', 2544), ('razón,', 2545), ('Intenta', 2546), ('doritos', 2547), ('voy', 2548), ('negociar,', 2549), ('broma,', 2550), ('fotos', 2551), ('hacemos', 2552), ('lo', 2553), ('cierto,', 2554), ('contárselo', 2555), ('soluciona,', 2556), ('hai\"\"\"', 2557), ('siguiente', 2558), ('pipa?', 2559), ('Sí', 2560), ('vendrá', 2561), ('los', 2562), ('va!', 2563), ('mucho', 2564), ('sábado', 2565), ('tapadera,', 2566), ('eráis', 2567), ('hermana?', 2568), ('Villy.', 2569), ('confiar', 2570), ('siesta,', 2571), ('especial,', 2572), ('jugarlo', 2573), ('sabía,', 2574), ('ayuda.', 2575), ('tutora', 2576), ('NFL,', 2577), ('ningún', 2578), ('sevidor?', 2579), ('símbolo', 2580), ('poner', 2581), ('Mierda,', 2582), ('genitalios.', 2583), ('cierto.', 2584), ('después', 2585), ('aluminio,', 2586), ('sarcástico', 2587), ('sol', 2588), ('Ya', 2589), ('¿eh?', 2590), ('llevarse', 2591), ('falta', 2592), ('adentro.', 2593), ('primera', 2594), ('acceso', 2595), ('¡Sí,', 2596), ('paquistaní.', 2597), ('diamantes,', 2598), ('Da', 2599), ('Intentan', 2600), ('imigración', 2601), ('cuentan', 2602), ('pasa?', 2603), ('tengo.', 2604), ('coños', 2605), ('están', 2606), ('pagar.', 2607), ('Yo', 2608), ('frase', 2609), ('pasando', 2610), ('pido', 2611), ('tenerla', 2612), ('desaparecido', 2613), ('ganas', 2614), ('hable!', 2615), ('disfrutar', 2616), ('llevamos', 2617), ('¿Ahora', 2618), ('fastidies,', 2619), ('nunca', 2620), ('Token', 2621), ('Lexington...', 2622), ('acabe', 2623), ('¡Madre', 2624), ('sincero?', 2625), ('ya!', 2626), ('fuera?', 2627), ('idea,', 2628), ('futbol.', 2629), ('hombre,', 2630), ('Bueno', 2631), ('dejarle', 2632), ('armas?', 2633), ('Oh', 2634), ('consiento', 2635), ('sufro', 2636), ('debilidad.', 2637), ('traficante', 2638), ('órdenes', 2639), ('ahora', 2640), ('ofrece', 2641), ('fuera', 2642), ('Para', 2643), ('actuante', 2644), ('safiros', 2645), ('vendría', 2646), ('cómo', 2647), ('niñera', 2648), ('ellos!', 2649), ('haya', 2650), ('No', 2651), ('digan:', 2652), ('puedas', 2653), ('Verdad', 2654), ('familia.', 2655), ('\"\"quien', 2656), ('deportiva', 2657), ('procura', 2658), ('Díle', 2659), ('Momento,', 2660), ('Broncos.', 2661), ('violadores', 2662), ('volveré', 2663), ('darte...', 2664), ('cuesta', 2665), ('hombre', 2666), ('V', 2667), ('hacer.', 2668), ('durante', 2669), ('amabilidad,', 2670), ('voz', 2671), ('Enfestar', 2672), ('recuerdo', 2673), ('pasta', 2674), ('¡Jolín!', 2675), ('notación,', 2676), ('autorizada.', 2677), ('hagamos', 2678), ('quiera', 2679), ('metería', 2680), ('calor', 2681), ('ISIS', 2682), ('Sobre', 2683), ('Hagámoslo.', 2684), ('futuro', 2685), ('qué?', 2686), ('ropa,', 2687), ('Muy', 2688), ('fresco', 2689), ('refería', 2690), ('abogada', 2691), ('genios.', 2692), ('pedirnos', 2693), ('acerca.', 2694), ('divertiste', 2695), ('encantaría', 2696), ('Para,', 2697), ('pensar', 2698), ('mire,', 2699), ('maestros.', 2700), ('Levanta', 2701), ('platos.', 2702), ('sólidos!', 2703), ('generó', 2704), ('Gente,', 2705), ('gritan', 2706), ('del', 2707), ('wohoo!', 2708), ('ancianos', 2709), ('tienes', 2710), ('Lo', 2711), ('\"Por', 2712), ('¡Dícelo', 2713), ('cada', 2714), ('terminó', 2715), ('Toda,', 2716), ('palabra', 2717), ('gastaste', 2718), ('haciendo?', 2719), ('dólar', 2720), ('Paquistán?', 2721), ('camaradería.', 2722), ('Ella', 2723), ('quidaras', 2724), ('sujetes', 2725), ('cinco', 2726), ('Intento', 2727), ('cierra', 2728), ('amistad.', 2729), ('golpeen', 2730), ('excelente', 2731), ('falsa.', 2732), ('creía', 2733), ('¿Has', 2734), ('sujeto', 2735), ('sucedido.', 2736), ('pistola', 2737), ('casa.', 2738), ('compasión.', 2739), ('van', 2740), ('comprar', 2741), ('Quizá', 2742), ('Te', 2743), ('favor.', 2744), ('recuerdas', 2745), ('parado', 2746), ('parar,', 2747), ('serás', 2748), ('sabes', 2749), ('pregunto', 2750), ('favor,', 2751), ('necesitamos', 2752), ('verbo,', 2753), ('mismo', 2754), ('casi', 2755), ('pasar', 2756), ('cosa,', 2757), ('viejos', 2758), ('enmendarlo,', 2759), ('pareczo', 2760), ('barra,', 2761), ('atención', 2762), ('maldíta', 2763), ('puesto,', 2764), ('creer', 2765), ('Así?', 2766), ('di', 2767), ('millones', 2768), ('¡qué', 2769), ('accidentes', 2770), ('volvería', 2771), ('geniales.', 2772), ('salvo,', 2773), ('tenías', 2774), ('Ojalá', 2775), ('Cállate,', 2776), ('mucho...', 2777), ('¿son', 2778), ('saltar,', 2779), ('paso,', 2780), ('padre?', 2781), ('punto', 2782), ('gente.', 2783), ('seis', 2784), ('abastecido', 2785), ('¡Que', 2786), ('gracias,', 2787), ('rimó,', 2788), ('genial.', 2789), ('tarjeta', 2790), ('apuntado', 2791), ('culpable', 2792), ('niña?', 2793), ('Algún', 2794), ('clave', 2795), ('mover', 2796), ('multicampo', 2797), ('o', 2798), ('tradicional.', 2799), ('oro.', 2800), ('poniendo', 2801), ('partir', 2802), ('collares', 2803), ('lugar', 2804), ('inventaron', 2805), ('verte', 2806), ('x', 2807), ('representante', 2808), ('interrupciones', 2809), ('craqueoso', 2810), ('más.', 2811), ('De', 2812), ('en', 2813), ('pai', 2814), ('será', 2815), ('fuego', 2816), ('¡Boom!', 2817), ('Verdad?', 2818), ('estás?', 2819), ('desde', 2820), ('teléfonos', 2821), ('hacer!', 2822), ('pensé', 2823), ('seguimos', 2824), ('iban', 2825), ('leído', 2826), ('Esa', 2827), ('agradecerte', 2828), ('ciberosíto', 2829), ('cuenta', 2830), ('pocos', 2831), ('sabemos', 2832), ('esto', 2833), ('quiere', 2834), ('gentil.', 2835), ('Cállate!', 2836), ('Sube', 2837), ('detenernos', 2838), ('desangrando', 2839), ('alegre.', 2840), ('tenía', 2841), ('compra', 2842), ('tocado', 2843), ('animadoras', 2844), ('bébe', 2845), ('cola,', 2846), ('cría', 2847), ('¿Féliz?', 2848), ('cin…', 2849), ('Y', 2850), ('saca,', 2851), ('todo?', 2852), ('tus', 2853), ('mente,', 2854), ('llames', 2855), ('hueca', 2856), ('franco', 2857), ('socios', 2858), ('fascinante,', 2859), ('mansiones', 2860), ('momento', 2861), ('oso', 2862), ('joyas', 2863), ('Tranquilo.', 2864), ('¿De', 2865), ('intentaron', 2866), ('calle', 2867), ('disco?', 2868), ('cuatro', 2869), ('Hoy', 2870), ('momento,', 2871), ('Debo', 2872), ('qué', 2873), ('comprador,', 2874), ('AJ,', 2875), ('Recuerdenlo', 2876), ('demos', 2877), ('mil', 2878), ('¿Cómo', 2879), ('tranquila,', 2880), ('aquí?', 2881), ('decirémos', 2882), ('Podría', 2883), ('Muchachos,', 2884), ('vuelve', 2885), ('nevera', 2886), ('diste', 2887), ('marca', 2888), ('deben', 2889), ('dólares?', 2890), ('compra,', 2891), ('mamá,', 2892), ('Esto', 2893), ('Sabías', 2894), ('hora', 2895), ('andabamos', 2896), ('tan', 2897), ('quere', 2898), ('caña', 2899), ('tuve', 2900), ('Mal', 2901), ('puñado', 2902), ('espía', 2903), ('corbatas', 2904), ('aprendiendo', 2905), ('doy', 2906), ('país', 2907), ('chica', 2908), ('sorpresas', 2909), ('cierto', 2910), ('estás', 2911), ('usado', 2912), ('decir', 2913), ('dólares', 2914), ('pequeña', 2915), ('aceptarlo.', 2916), ('tiraríais', 2917), ('¿Pero', 2918), ('detuvo', 2919), ('confundido', 2920), ('globo.', 2921), ('Stan.', 2922), ('estar', 2923), ('¿Verdad', 2924), ('Canadá,', 2925), ('Olvidémonos', 2926), ('hija?', 2927), ('cañero.', 2928), ('negro', 2929), ('concozco', 2930), ('¿Tenéis', 2931), ('platos', 2932), ('notaria', 2933), ('corbatíta,', 2934), ('David,', 2935), ('Amigo,', 2936), ('estuviera', 2937), ('aspirante', 2938), ('féliz', 2939), ('¿qué', 2940), ('despechada,', 2941), ('chisme', 2942), ('huecos.', 2943), ('coronel,', 2944), ('entregarte', 2945), ('sacas', 2946), ('Cuarenta', 2947), ('escuelas', 2948), ('alquimistas', 2949), ('Shelly', 2950), ('burrito', 2951), ('alias', 2952), ('pondré', 2953), ('tiempos,', 2954), ('Randy', 2955), ('oigan.', 2956), ('dejar', 2957), ('transferencia,', 2958), ('listos', 2959), ('Vale?', 2960), ('Clyde,', 2961), ('explotan', 2962), ('Llamen', 2963), ('pesadilla.', 2964), ('peor', 2965), ('puede…', 2966), ('Enrique', 2967), ('jerez', 2968), ('explicar', 2969), ('enviarlo', 2970), ('Ben', 2971), ('tuya?', 2972), ('Bellici', 2973), ('Denver', 2974), ('mega', 2975), ('esposa', 2976), ('alta', 2977), ('Marchando', 2978), ('significaba', 2979), ('hola', 2980), ('Nadie', 2981), ('afortunados?', 2982), ('sigas', 2983), ('¿Solo', 2984), ('árbitro', 2985), ('correcto,', 2986), ('como', 2987), ('improvisaciones', 2988), ('abra', 2989), ('permiten', 2990), ('totalmente', 2991), ('cara,', 2992), ('quede', 2993), ('comisionato', 2994), ('Entrenador,', 2995), ('wow.', 2996), ('esperad', 2997), ('Marsh,', 2998), ('madre,', 2999), ('doctor?', 3000), ('Roger', 3001), ('domingo.', 3002), ('necesitamos,', 3003), ('liberas', 3004), ('negors', 3005), ('te', 3006), ('nos', 3007), ('repente', 3008), ('Keith,', 3009), ('haces?', 3010), ('¡Muy', 3011), ('bueno,', 3012), ('abrazan', 3013), ('todavía', 3014), ('sí.', 3015), ('aún', 3016), ('Payton,', 3017), ('Oooo...', 3018), ('identificación,', 3019), ('papá,', 3020), ('dónde', 3021), ('sola', 3022), ('pensaba', 3023), ('nombre.', 3024), ('juego.', 3025), ('hijo', 3026), ('Esas', 3027), ('tenga', 3028), ('trabajo', 3029), ('ahora.', 3030), ('cree', 3031), ('esos', 3032), ('estúpido.', 3033), ('saquen,', 3034), ('hay', 3035), ('¡A', 3036), ('hermosura,', 3037), ('cubrirlo', 3038), ('papel', 3039), ('conchabados?', 3040), ('amigos,', 3041), ('jodiendo', 3042), ('eso?', 3043), ('canguro,', 3044), ('pasarse', 3045), ('Y,', 3046), ('correrá', 3047), ('y…', 3048), ('mentirosa', 3049), ('¡Oh!', 3050), ('han', 3051), ('jodas', 3052), ('última', 3053), ('Oh,', 3054), ('rato?', 3055), ('ido', 3056), ('sabía', 3057), ('NFL', 3058), ('empiezo', 3059), ('imponentes', 3060), ('Cállaos', 3061), ('deportaran', 3062), ('Ves', 3063), ('bebemos', 3064), ('práctica', 3065), ('encargados', 3066), ('turquesa.', 3067), ('guapa,', 3068), ('resulta', 3069), ('literalmente,', 3070), ('deciendo', 3071), ('cloro', 3072), ('sesiones', 3073), ('Mali', 3074), ('llamarlos', 3075), ('esperar', 3076), ('¡Increíble!', 3077), ('matáis', 3078), ('Tomemos', 3079), ('pidiera', 3080), ('matemática?', 3081), ('Os', 3082), ('coño', 3083), ('puede', 3084), ('regla,', 3085), ('comprendemos', 3086), ('esperma?', 3087), ('Woodhouse,', 3088), ('cambios?', 3089), ('tono', 3090), ('viene', 3091), ('buscad', 3092), ('tengas', 3093), ('Pam', 3094), ('todo.', 3095), ('llamemos', 3096), ('\"\"mai', 3097), ('hablarémos', 3098), ('pruebas', 3099), ('conseguir', 3100), ('terminado', 3101), ('funcionará', 3102), ('vestidor,', 3103), ('de', 3104), ('todas', 3105), ('Vale', 3106), ('esperamos', 3107), ('jugadas', 3108), ('buscar', 3109), ('Todavía', 3110), ('ves?', 3111), ('comprarles', 3112), ('grupo', 3113), ('Sharon', 3114), ('4568111.', 3115), ('visita', 3116), ('Eh,', 3117), ('¡Bien', 3118), ('disparan', 3119), ('idiota,', 3120), ('contado', 3121), ('molesta', 3122), ('idiotas', 3123), ('refiero', 3124), ('tiempo', 3125), ('mil?', 3126), ('Demostrando', 3127), ('acabó.', 3128), ('Nuestra', 3129), ('Kyle', 3130), ('diez', 3131), ('disfrutando', 3132), ('ventas', 3133), ('simulacro.', 3134), ('joden', 3135), ('clavos,', 3136), ('noches,', 3137), ('escapan.', 3138), ('Han', 3139), ('espalda', 3140), ('hija,', 3141), ('proteger', 3142), ('sueño', 3143), ('dices?', 3144), ('?', 3145), ('Si', 3146), ('enfermedad', 3147), ('¿Vender', 3148), ('dame', 3149), ('¡Wow,', 3150), ('aretes.', 3151), ('leches', 3152), ('reforzada', 3153), ('joderla\"\".', 3154), ('Sumamos', 3155), ('malísima', 3156), ('compasión!', 3157), ('hacer,', 3158), ('sobre', 3159), ('¡Sterling!', 3160), ('osíto', 3161), ('pensar:', 3162), ('Amaba', 3163), ('que...', 3164), ('esperando', 3165), ('jugar', 3166), ('Llevan', 3167), ('miente.', 3168), ('rico.', 3169), ('Eh', 3170), ('hablemos', 3171), ('estuve', 3172), ('ocurren', 3173), ('llevando', 3174), ('identidad', 3175), ('cantidades', 3176), ('cabeza', 3177), ('esto?', 3178), ('quizá', 3179), ('beber', 3180), ('nieto.', 3181), ('uuh.', 3182), ('médica', 3183), ('extrañará', 3184), ('Lando', 3185), ('globo', 3186), ('hablamos', 3187), ('bando?', 3188), ('jugador', 3189), ('santo,', 3190), ('conmociones,', 3191), ('lastimen', 3192), ('gustará', 3193), ('Archer,', 3194), ('usan', 3195), ('amor', 3196), ('Después', 3197), ('hermosa,', 3198), ('creemos', 3199), ('confianza!', 3200), ('escuche,', 3201), ('carajos!', 3202), ('Vas', 3203), ('despistar.', 3204), ('dentro', 3205), ('\"\"no', 3206), ('cubrirá', 3207), ('sofá', 3208), ('padres,', 3209), ('llamaría', 3210), ('haber', 3211), ('pues,', 3212), ('padre.', 3213), ('Maní', 3214), ('manera', 3215), ('amables', 3216), ('todos,', 3217), ('Ay,', 3218), ('colarnos', 3219), ('ridículo,', 3220), ('aplauso', 3221), ('luego', 3222), ('quisiera,', 3223), ('dice:', 3224), ('perdido.', 3225), ('modo', 3226), ('¡Wohoo!', 3227), ('mata', 3228), ('hambre?', 3229), ('problema?', 3230), ('verás', 3231), ('pena', 3232), ('gente,', 3233), ('siempre', 3234), ('cuándo?', 3235), ('diamantes', 3236), ('encantan', 3237), ('nube', 3238), ('cagar?', 3239), ('Lleva', 3240), ('queremos', 3241), ('genial!', 3242)]\n"
     ]
    }
   ],
   "source": [
    "bolsav = df['pre-procesado'].str.cat(sep= \" \")\n",
    "bolsav = set(bolsav.split())\n",
    "bolsav = [(palabra, i+1) for i, palabra in enumerate(bolsav)]\n",
    "print(bolsav)\n"
   ]
  },
  {
   "cell_type": "code",
   "execution_count": 26,
   "metadata": {},
   "outputs": [
    {
     "data": {
      "text/plain": [
       "2115"
      ]
     },
     "execution_count": 26,
     "metadata": {},
     "output_type": "execute_result"
    }
   ],
   "source": [
    "# SKLEARN\n",
    "from sklearn.feature_extraction.text import CountVectorizer\n",
    "count_vect = CountVectorizer()\n",
    "bow_Dialogo = count_vect.fit_transform(datos['pre-procesado'].values)\n",
    "len(count_vect.vocabulary_)"
   ]
  },
  {
   "cell_type": "code",
   "execution_count": 27,
   "metadata": {},
   "outputs": [
    {
     "data": {
      "text/plain": [
       "2115"
      ]
     },
     "execution_count": 27,
     "metadata": {},
     "output_type": "execute_result"
    }
   ],
   "source": [
    "len(count_vect.vocabulary_)"
   ]
  },
  {
   "cell_type": "markdown",
   "metadata": {},
   "source": [
    "# Punto 3: 🤔\n",
    "\n",
    "- `[3pts]` ¿En qué casos es buena idea tomar en la cuenta la frecuencia de las palabras para la bolsa de palabras?\n",
    "\n",
    "* Pienso que la mejor forma de tener encuanta la bolsa de palabras seria para aplicar tareas de aprendizaje debiso a que el modelo es facil de entender e implementar en clasificacion de documentos.\n",
    "\n",
    "\n",
    "- `[3pts]` ¿Cuándo es una mejor idea usar una bolsa de n-gramas en vez de una bolsa de palabras?\n",
    "\n",
    "* La mejore idea de usar una bolsa de N-Gramas es cuando se tienen elemtons con una secuencia dada, un ejemplo es el uso que actualmente se le da en el sector salud, con las secuncias geneticas para hallar enfermedades de X paciente.\n",
    "\n"
   ]
  },
  {
   "cell_type": "markdown",
   "metadata": {},
   "source": [
    "# BONUS Punto 4: 😜\n",
    "\n",
    "- `[1pt]` ¿A qué pertenecen los dialogos del primer punto? \n",
    "\n",
    "Por la linea que hay en el dialogo \"le gustaría ser el entrenador de sarcasmobol de South Park\" el dialogo corresponde a la serie South Park  \"Sarcasmobol\" T16 E8"
   ]
  }
 ],
 "metadata": {
  "kernelspec": {
   "display_name": "Python 3",
   "language": "python",
   "name": "python3"
  },
  "language_info": {
   "codemirror_mode": {
    "name": "ipython",
    "version": 3
   },
   "file_extension": ".py",
   "mimetype": "text/x-python",
   "name": "python",
   "nbconvert_exporter": "python",
   "pygments_lexer": "ipython3",
   "version": "3.8.3"
  }
 },
 "nbformat": 4,
 "nbformat_minor": 2
}
